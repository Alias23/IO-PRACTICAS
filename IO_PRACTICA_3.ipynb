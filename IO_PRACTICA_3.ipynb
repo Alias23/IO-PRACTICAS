{
  "nbformat": 4,
  "nbformat_minor": 0,
  "metadata": {
    "colab": {
      "provenance": [],
      "authorship_tag": "ABX9TyNVp/6YiVmtBO9OuBBEy8U5",
      "include_colab_link": true
    },
    "kernelspec": {
      "name": "python3",
      "display_name": "Python 3"
    },
    "language_info": {
      "name": "python"
    }
  },
  "cells": [
    {
      "cell_type": "markdown",
      "metadata": {
        "id": "view-in-github",
        "colab_type": "text"
      },
      "source": [
        "<a href=\"https://colab.research.google.com/github/Alias23/IO-PRACTICAS/blob/main/IO_PRACTICA_3.ipynb\" target=\"_parent\"><img src=\"https://colab.research.google.com/assets/colab-badge.svg\" alt=\"Open In Colab\"/></a>"
      ]
    },
    {
      "cell_type": "code",
      "execution_count": 1,
      "metadata": {
        "colab": {
          "base_uri": "https://localhost:8080/"
        },
        "id": "ILSNuKpthTvX",
        "outputId": "dd379758-59a0-400a-a631-d9827041425c"
      },
      "outputs": [
        {
          "output_type": "stream",
          "name": "stdout",
          "text": [
            "N =   1,000  →  π ≈ 3.067485  (p = 326 cruces)\n",
            "N =  10,000  →  π ≈ 3.088326  (p = 3238 cruces)\n",
            "N = 100,000  →  π ≈ 3.166160  (p = 31584 cruces)\n",
            "N = 1,000,000  →  π ≈ 3.139550  (p = 318517 cruces)\n"
          ]
        }
      ],
      "source": [
        "import numpy as np\n",
        "\n",
        "def estimate_pi_buffon(n_trials, l=1.0, t=2.0, seed=None):\n",
        "\n",
        "   # Estima π usando el experimento de la aguja de Buffon:\n",
        "   #   - n_trials: número de lanzamientos\n",
        "    #  - l      : longitud de la aguja\n",
        "    #  - t      : distancia entre líneas paralelas\n",
        "    # - seed   : semilla opcional para reproducibilidad\n",
        "\n",
        "    rng = np.random.default_rng(seed)\n",
        "    # 1) Posición del centro de la aguja: distancia uniforme al punto medio de la banda [0, t/2)\n",
        "    x = rng.random(n_trials) * (t/2)\n",
        "    # 2) Ángulo de la aguja: uniforme en [0, π/2)\n",
        "    theta = rng.random(n_trials) * (np.pi/2)\n",
        "    # 3) Cruce si x <= (l/2) * sin(theta)\n",
        "    crosses = x <= (l/2) * np.sin(theta)\n",
        "    p = crosses.sum()\n",
        "    # 4) Estimador de π\n",
        "    pi_est = (2 * l * n_trials) / (t * p)\n",
        "    return pi_est, p\n",
        "\n",
        "if __name__ == \"__main__\":\n",
        "    for N in [1_000, 10_000, 100_000, 1_000_000]:\n",
        "        pi_est, p = estimate_pi_buffon(N, seed=42)\n",
        "        print(f\"N = {N:>7,d}  →  π ≈ {pi_est:.6f}  (p = {p} cruces)\")\n"
      ]
    }
  ]
}