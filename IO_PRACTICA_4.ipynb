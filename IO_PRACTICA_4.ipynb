{
  "nbformat": 4,
  "nbformat_minor": 0,
  "metadata": {
    "colab": {
      "provenance": [],
      "authorship_tag": "ABX9TyNBF7oMnsnj+gM+xEgoxj4O",
      "include_colab_link": true
    },
    "kernelspec": {
      "name": "python3",
      "display_name": "Python 3"
    },
    "language_info": {
      "name": "python"
    }
  },
  "cells": [
    {
      "cell_type": "markdown",
      "metadata": {
        "id": "view-in-github",
        "colab_type": "text"
      },
      "source": [
        "<a href=\"https://colab.research.google.com/github/Alias23/IO-PRACTICAS/blob/main/IO_PRACTICA_4.ipynb\" target=\"_parent\"><img src=\"https://colab.research.google.com/assets/colab-badge.svg\" alt=\"Open In Colab\"/></a>"
      ]
    },
    {
      "cell_type": "code",
      "execution_count": 7,
      "metadata": {
        "colab": {
          "base_uri": "https://localhost:8080/"
        },
        "id": "9oxzshbYlZmx",
        "outputId": "11cb8b99-544f-4f94-c91b-dfaf5508ff58"
      },
      "outputs": [
        {
          "output_type": "stream",
          "name": "stdout",
          "text": [
            "Status: Optimal\n",
            "Número de estaciones: 2\n",
            "Ciudades con estación:\n",
            "  C2\n",
            "  C4\n",
            "Coste total: 95.0 millones €\n"
          ]
        }
      ],
      "source": [
        "from pulp import (\n",
        "    LpProblem, LpVariable, LpMinimize,\n",
        "    lpSum, LpStatus, value, GLPK_CMD\n",
        ")\n",
        "\n",
        "# Datos\n",
        "ciudades = [\"C1\",\"C2\",\"C3\",\"C4\",\"C5\",\"C6\"]\n",
        "costes = {\"C1\":30, \"C2\":45, \"C3\":40, \"C4\":50, \"C5\":80, \"C6\":90}  # millones €\n",
        "tiempos = {\n",
        "    (\"C1\",\"C1\"):0,  (\"C1\",\"C2\"):10, (\"C1\",\"C3\"):13, (\"C1\",\"C4\"):30, (\"C1\",\"C5\"):30, (\"C1\",\"C6\"):20,\n",
        "    (\"C2\",\"C1\"):10, (\"C2\",\"C2\"):0,  (\"C2\",\"C3\"):25, (\"C2\",\"C4\"):35, (\"C2\",\"C5\"):20, (\"C2\",\"C6\"):10,\n",
        "    (\"C3\",\"C1\"):13, (\"C3\",\"C2\"):25, (\"C3\",\"C3\"):0,  (\"C3\",\"C4\"):15, (\"C3\",\"C5\"):30, (\"C3\",\"C6\"):20,\n",
        "    (\"C4\",\"C1\"):30, (\"C4\",\"C2\"):35, (\"C4\",\"C3\"):15, (\"C4\",\"C4\"):0,  (\"C4\",\"C5\"):15, (\"C4\",\"C6\"):25,\n",
        "    (\"C5\",\"C1\"):30, (\"C5\",\"C2\"):20, (\"C5\",\"C3\"):30, (\"C5\",\"C4\"):15, (\"C5\",\"C5\"):0,  (\"C5\",\"C6\"):14,\n",
        "    (\"C6\",\"C1\"):20, (\"C6\",\"C2\"):10, (\"C6\",\"C3\"):20, (\"C6\",\"C4\"):25, (\"C6\",\"C5\"):14, (\"C6\",\"C6\"):0\n",
        "}\n",
        "\n",
        "BUDGET = 180   # millones €\n",
        "MAX_TIME = 16  # minutos\n",
        "\n",
        "# Creamos el modelo\n",
        "model = LpProblem(\"Estaciones_Bomberos\", LpMinimize)\n",
        "\n",
        "# Variables binarias\n",
        "x = {c: LpVariable(f\"x_{c}\", cat=\"Binary\") for c in ciudades}\n",
        "\n",
        "# Objetivo: minimizar número de estaciones\n",
        "model += lpSum(x[c] for c in ciudades), \"Min_num_estaciones\"\n",
        "\n",
        "# Restricción de presupuesto\n",
        "model += lpSum(costes[c] * x[c] for c in ciudades) <= BUDGET, \"Presupuesto\"\n",
        "\n",
        "# Cobertura: para cada ciudad j, suma sobre i tales que tiempos[(i,j)] ≤ MAX_TIME\n",
        "for j in ciudades:\n",
        "    model += (\n",
        "        lpSum(\n",
        "            x[i]\n",
        "            for i in ciudades\n",
        "            if tiempos.get((i, j), float('inf')) <= MAX_TIME\n",
        "        ) >= 1,\n",
        "        f\"Cobertura_{j}\"\n",
        "    )\n",
        "\n",
        "# Lógica: si C2 y C6, entonces C3\n",
        "model += x[\"C2\"] + x[\"C6\"] - x[\"C3\"] <= 1, \"Cond_C2_C6_a_C3\"\n",
        "\n",
        "# Lógica: si no C2, entonces C5\n",
        "model += x[\"C2\"] + x[\"C5\"] >= 1, \"Cond_noC2_a_C5\"\n",
        "\n",
        "# Resolver con GLPK_CMD (o usa .solve() para CBC)\n",
        "model.solve(GLPK_CMD(msg=False))\n",
        "# model.solve()\n",
        "\n",
        "# Resultados\n",
        "print(\"Status:\", LpStatus[model.status])\n",
        "num_est = sum(int(x[c].value()) for c in ciudades)\n",
        "print(\"Número de estaciones:\", num_est)\n",
        "print(\"Ciudades con estación:\")\n",
        "for c in ciudades:\n",
        "    if x[c].value() > 0.5:\n",
        "        print(\" \", c)\n",
        "coste_total = value(lpSum(costes[c] * x[c] for c in ciudades))\n",
        "print(\"Coste total:\", coste_total, \"millones €\")\n"
      ]
    }
  ]
}