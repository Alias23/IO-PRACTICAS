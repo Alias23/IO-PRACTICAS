{
  "nbformat": 4,
  "nbformat_minor": 0,
  "metadata": {
    "colab": {
      "provenance": [],
      "authorship_tag": "ABX9TyMWkryszfA+rExt98pjYaSj",
      "include_colab_link": true
    },
    "kernelspec": {
      "name": "python3",
      "display_name": "Python 3"
    },
    "language_info": {
      "name": "python"
    }
  },
  "cells": [
    {
      "cell_type": "markdown",
      "metadata": {
        "id": "view-in-github",
        "colab_type": "text"
      },
      "source": [
        "<a href=\"https://colab.research.google.com/github/Alias23/IO-PRACTICAS/blob/main/IO_PRACTICA_2.ipynb\" target=\"_parent\"><img src=\"https://colab.research.google.com/assets/colab-badge.svg\" alt=\"Open In Colab\"/></a>"
      ]
    },
    {
      "cell_type": "code",
      "execution_count": 9,
      "metadata": {
        "colab": {
          "base_uri": "https://localhost:8080/"
        },
        "id": "f7sl8_C4c9bH",
        "outputId": "c81781a3-3113-44e5-c4fe-43ec9d23d499"
      },
      "outputs": [
        {
          "output_type": "stream",
          "name": "stdout",
          "text": [
            "=== Problema 3: Plantaciones ===\n",
            "Status: Optimal\n",
            "Hectáreas de maiz: 8.00\n",
            "Hectáreas de soja: 10.88\n",
            "Hectáreas de lechuga: 31.12\n",
            "Beneficio total: € 16940.0\n",
            "\n",
            "=== Problema 6: Menú ===\n",
            "Status: Optimal\n",
            "Gramos de espagueti: 300.0 g\n",
            "Gramos de pavo: 283.3 g\n",
            "Gramos de escalope: 200.0 g\n",
            "Gramos de espinacas: 100.0 g\n",
            "Gramos de pastel: 66.7 g\n",
            "Grasa total en el menú: 54799.999880999996 mg\n"
          ]
        }
      ],
      "source": [
        "from pulp import LpProblem, LpVariable, LpMaximize, LpMinimize, lpSum, value, LpStatus\n",
        "\n",
        "# ----------------------------\n",
        "# Problema 3: Plantaciones\n",
        "# ----------------------------\n",
        "\n",
        "# Datos\n",
        "total_hect = 50\n",
        "agua_disponible = 100_000  # litros\n",
        "min_maiz_kg = 5120         # kg de maíz mínimo\n",
        "\n",
        "# Rendimientos y parámetros por cultivo\n",
        "#        producción (kg/ha), beneficio (€/kg), agua (L/kg)\n",
        "cultivos = {\n",
        "    \"maiz\":    {\"prod\": 640, \"ben\": 1.0,  \"agua\": 8.75},\n",
        "    \"soja\":    {\"prod\": 500, \"ben\": 0.8,  \"agua\": 5.0},\n",
        "    \"lechuga\": {\"prod\": 400, \"ben\": 0.6,  \"agua\": 2.25},\n",
        "}\n",
        "\n",
        "# Crear modelo\n",
        "model3 = LpProblem(\"Plantaciones\", LpMaximize)\n",
        "\n",
        "# Variables: hectáreas dedicadas a cada cultivo\n",
        "x = {c: LpVariable(f\"ha_{c}\", lowBound=0) for c in cultivos}\n",
        "\n",
        "# Función objetivo: maximizar beneficio\n",
        "model3 += lpSum(x[c] * cultivos[c][\"prod\"] * cultivos[c][\"ben\"] for c in cultivos)\n",
        "\n",
        "# Restricciones\n",
        "# 1) Tierra total\n",
        "model3 += lpSum(x[c] for c in cultivos) <= total_hect, \"Tierra_disponible\"\n",
        "# 2) Agua total\n",
        "model3 += lpSum(x[c] * cultivos[c][\"prod\"] * cultivos[c][\"agua\"] for c in cultivos) <= agua_disponible, \"Agua_disponible\"\n",
        "# 3) Maíz mínimo\n",
        "model3 += x[\"maiz\"] * cultivos[\"maiz\"][\"prod\"] >= min_maiz_kg, \"Min_maiz\"\n",
        "\n",
        "# Resolver\n",
        "model3.solve()\n",
        "print(\"=== Problema 3: Plantaciones ===\")\n",
        "print(\"Status:\", LpStatus[model3.status])\n",
        "for c in cultivos:\n",
        "    print(f\"Hectáreas de {c}: {x[c].value():.2f}\")\n",
        "print(\"Beneficio total: €\", value(model3.objective))\n",
        "print()\n",
        "\n",
        "\n",
        "# ----------------------------\n",
        "# Problema 6: Menú (corrección)\n",
        "# ----------------------------\n",
        "\n",
        "# Variables: gramos de cada comida en el menú\n",
        "y = {c: LpVariable(f\"g_{c}\", lowBound=0, upBound=limites[c]) for c in datos}\n",
        "\n",
        "# Crear modelo (minimizar grasa)\n",
        "model6 = LpProblem(\"Menu_Hospital\", LpMinimize)\n",
        "\n",
        "# Función objetivo: minimizar grasa total\n",
        "# Reemplazamos (y[c]/100) por (y[c] * 0.01)\n",
        "model6 += lpSum((y[c] * 0.01) * datos[c][\"grasa\"] for c in datos)\n",
        "\n",
        "# Restricciones de nutrientes mínimos:\n",
        "for nut in [\"proteinas\", \"hierro\", \"niacina\", \"tiamina\", \"vitC\"]:\n",
        "    # Igual aquí: (y[c]/100) → (y[c] * 0.01)\n",
        "    model6 += lpSum((y[c] * 0.01) * datos[c][nut] for c in datos) >= req[nut], f\"Min_{nut}\"\n",
        "\n",
        "# Resolver\n",
        "model6.solve()\n",
        "print(\"=== Problema 6: Menú ===\")\n",
        "print(\"Status:\", LpStatus[model6.status])\n",
        "for c in datos:\n",
        "    print(f\"Gramos de {c}: {y[c].value():.1f} g\")\n",
        "print(\"Grasa total en el menú:\", value(model6.objective), \"mg\")\n"
      ]
    },
    {
      "cell_type": "code",
      "source": [],
      "metadata": {
        "id": "rxZZMNCje-jV"
      },
      "execution_count": null,
      "outputs": []
    }
  ]
}