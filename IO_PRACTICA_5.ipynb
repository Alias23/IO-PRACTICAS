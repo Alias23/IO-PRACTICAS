{
  "nbformat": 4,
  "nbformat_minor": 0,
  "metadata": {
    "colab": {
      "provenance": [],
      "authorship_tag": "ABX9TyNgIc2cFaBwS1wB1RmQERcC",
      "include_colab_link": true
    },
    "kernelspec": {
      "name": "python3",
      "display_name": "Python 3"
    },
    "language_info": {
      "name": "python"
    }
  },
  "cells": [
    {
      "cell_type": "markdown",
      "metadata": {
        "id": "view-in-github",
        "colab_type": "text"
      },
      "source": [
        "<a href=\"https://colab.research.google.com/github/Alias23/IO-PRACTICAS/blob/main/IO_PRACTICA_5.ipynb\" target=\"_parent\"><img src=\"https://colab.research.google.com/assets/colab-badge.svg\" alt=\"Open In Colab\"/></a>"
      ]
    },
    {
      "cell_type": "code",
      "execution_count": 3,
      "metadata": {
        "colab": {
          "base_uri": "https://localhost:8080/"
        },
        "id": "d_nqxgUyv3E5",
        "outputId": "b341b165-6207-4ccf-a231-08773c7e7b32"
      },
      "outputs": [
        {
          "output_type": "stream",
          "name": "stdout",
          "text": [
            "Status: Optimal\n",
            "Coste mínimo: 65.0\n",
            "Flujos óptimos:\n",
            "  A → B : 10.0\n",
            "  A → C : 10.0\n",
            "  D → B : 5.0\n"
          ]
        }
      ],
      "source": [
        "import numpy as np\n",
        "from pulp import (\n",
        "    LpProblem, LpVariable, LpMinimize,\n",
        "    lpSum, LpStatus, value, GLPK_CMD\n",
        ")\n",
        "\n",
        "# ----------------------------\n",
        "# 1) Definir los datos\n",
        "# ----------------------------\n",
        "vert = [\"A\",\"B\",\"C\",\"D\",\"E\"]\n",
        "n = len(vert)\n",
        "\n",
        "# Oferta neta de cada nodo (b_i)\n",
        "#   >0: nodo fuente (oferta)\n",
        "#   <0: nodo sumidero (demanda)\n",
        "#    0: nodo de transbordo\n",
        "b = np.array([\n",
        "    # A,  B,   C,   D,   E\n",
        "      20, -15, -10,   5,   0\n",
        "])\n",
        "\n",
        "# Costes unitarios c_{ij} (n×n)\n",
        "c = np.array([\n",
        "    # A   B   C   D   E\n",
        "    [  0,  2,  3,  0,  1],  # desde A\n",
        "    [  2,  0,  1,  3,  0],  # desde B\n",
        "    [  3,  1,  0,  2,  2],  # desde C\n",
        "    [  0,  3,  2,  0,  1],  # desde D\n",
        "    [  1,  0,  2,  1,  0],  # desde E\n",
        "])\n",
        "\n",
        "# Capacidades máximas u_{ij} (n×n). Si es ilimitada, pon un número grande.\n",
        "u = np.array([\n",
        "    # A   B   C   D   E\n",
        "    [  0, 10, 10,  0,  5],\n",
        "    [ 10,  0,  5, 10,  0],\n",
        "    [ 10,  5,  0, 10, 10],\n",
        "    [  0, 10, 10,  0,  5],\n",
        "    [  5,  0, 10,  5,  0],\n",
        "])\n",
        "\n",
        "# ----------------------------\n",
        "# 2) Construir el modelo PuLP\n",
        "# ----------------------------\n",
        "model = LpProblem(\"Flujo_MinCoste\", LpMinimize)\n",
        "\n",
        "# Variables x[i][j] ∈ [0, u_ij]\n",
        "x = [\n",
        "    [\n",
        "        LpVariable(f\"x_{i}_{j}\",\n",
        "                   lowBound=0,\n",
        "                   upBound=u[i,j])\n",
        "        for j in range(n)\n",
        "    ]\n",
        "    for i in range(n)\n",
        "]\n",
        "\n",
        "# Objetivo: minimizar ∑_{i,j} c_{ij} x_{ij}\n",
        "model += lpSum(c[i,j] * x[i][j]\n",
        "               for i in range(n)\n",
        "               for j in range(n)), \"Coste_Total\"\n",
        "\n",
        "# Balance de flujo en cada nodo: ∑_j x_{ij} – ∑_k x_{ki} = b_i\n",
        "for i in range(n):\n",
        "    model += (\n",
        "        lpSum(x[i][j] for j in range(n))\n",
        "        - lpSum(x[k][i] for k in range(n))\n",
        "        == b[i],\n",
        "        f\"Balance_{vert[i]}\"\n",
        "    )\n",
        "\n",
        "# ----------------------------\n",
        "# 3) Resolver\n",
        "# ----------------------------\n",
        "model.solve(GLPK_CMD(msg=False))\n",
        "# — o bien: model.solve() para usar CBC sin instalaciones extra\n",
        "\n",
        "# ----------------------------\n",
        "# 4) Mostrar resultados\n",
        "# ----------------------------\n",
        "print(\"Status:\", LpStatus[model.status])\n",
        "print(\"Coste mínimo:\", value(model.objective))\n",
        "print(\"Flujos óptimos:\")\n",
        "for i in range(n):\n",
        "    for j in range(n):\n",
        "        val = x[i][j].value()\n",
        "        if val and val > 1e-6:\n",
        "            print(f\"  {vert[i]} → {vert[j]} : {val}\")\n"
      ]
    }
  ]
}